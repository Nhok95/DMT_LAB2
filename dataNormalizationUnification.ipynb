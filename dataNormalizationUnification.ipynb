{
 "cells": [
  {
   "cell_type": "markdown",
   "metadata": {},
   "source": [
    "# 2. Data normalization/unification"
   ]
  },
  {
   "cell_type": "markdown",
   "metadata": {},
   "source": [
    "#### Imports and constants"
   ]
  },
  {
   "cell_type": "code",
   "execution_count": 31,
   "metadata": {},
   "outputs": [],
   "source": [
    "import pandas as pd\n",
    "import numpy as np\n",
    "import seaborn as sns\n",
    "from scipy import stats\n",
    "from pathlib import Path\n",
    "from datetime import datetime\n",
    "\n",
    "# Geometry libraries\n",
    "import geopandas as gpd\n",
    "from shapely.geometry import Polygon, LineString, Point\n",
    "\n",
    "\n",
    "ROOT = Path.cwd()"
   ]
  },
  {
   "cell_type": "markdown",
   "metadata": {},
   "source": [
    "#### Reading"
   ]
  },
  {
   "cell_type": "code",
   "execution_count": 2,
   "metadata": {},
   "outputs": [
    {
     "data": {
      "text/plain": [
       "WindowsPath('d:/00.Mis_Cosas/Universidad/Master/Q2/DMT/Project/Project2_Processing&Querying_TransportationData/Code/Data')"
      ]
     },
     "execution_count": 2,
     "metadata": {},
     "output_type": "execute_result"
    }
   ],
   "source": [
    "DataDir = ROOT / \"Data\"\n",
    "DataDir"
   ]
  },
  {
   "cell_type": "code",
   "execution_count": 3,
   "metadata": {},
   "outputs": [],
   "source": [
    "chlorophyllDF = pd.read_csv(DataDir / \"clean_chlorophyll.csv\")\n",
    "temperatureDF = pd.read_csv(DataDir / \"clean_temperature.csv\")"
   ]
  },
  {
   "cell_type": "code",
   "execution_count": 4,
   "metadata": {},
   "outputs": [
    {
     "data": {
      "text/html": [
       "<div>\n",
       "<style scoped>\n",
       "    .dataframe tbody tr th:only-of-type {\n",
       "        vertical-align: middle;\n",
       "    }\n",
       "\n",
       "    .dataframe tbody tr th {\n",
       "        vertical-align: top;\n",
       "    }\n",
       "\n",
       "    .dataframe thead th {\n",
       "        text-align: right;\n",
       "    }\n",
       "</style>\n",
       "<table border=\"1\" class=\"dataframe\">\n",
       "  <thead>\n",
       "    <tr style=\"text-align: right;\">\n",
       "      <th></th>\n",
       "      <th>time</th>\n",
       "      <th>latitude</th>\n",
       "      <th>longitude</th>\n",
       "      <th>chlor_a</th>\n",
       "    </tr>\n",
       "  </thead>\n",
       "  <tbody>\n",
       "    <tr>\n",
       "      <th>0</th>\n",
       "      <td>2020-01-01</td>\n",
       "      <td>-35.25</td>\n",
       "      <td>-69.75</td>\n",
       "      <td>1.04</td>\n",
       "    </tr>\n",
       "    <tr>\n",
       "      <th>1</th>\n",
       "      <td>2020-01-01</td>\n",
       "      <td>-35.25</td>\n",
       "      <td>-69.25</td>\n",
       "      <td>1.04</td>\n",
       "    </tr>\n",
       "    <tr>\n",
       "      <th>2</th>\n",
       "      <td>2020-01-01</td>\n",
       "      <td>-35.25</td>\n",
       "      <td>-68.75</td>\n",
       "      <td>1.04</td>\n",
       "    </tr>\n",
       "    <tr>\n",
       "      <th>3</th>\n",
       "      <td>2020-01-01</td>\n",
       "      <td>-35.25</td>\n",
       "      <td>-68.25</td>\n",
       "      <td>1.04</td>\n",
       "    </tr>\n",
       "    <tr>\n",
       "      <th>4</th>\n",
       "      <td>2020-01-01</td>\n",
       "      <td>-35.25</td>\n",
       "      <td>-67.75</td>\n",
       "      <td>1.04</td>\n",
       "    </tr>\n",
       "    <tr>\n",
       "      <th>...</th>\n",
       "      <td>...</td>\n",
       "      <td>...</td>\n",
       "      <td>...</td>\n",
       "      <td>...</td>\n",
       "    </tr>\n",
       "    <tr>\n",
       "      <th>218395</th>\n",
       "      <td>2020-06-30</td>\n",
       "      <td>-49.75</td>\n",
       "      <td>-52.25</td>\n",
       "      <td>1.04</td>\n",
       "    </tr>\n",
       "    <tr>\n",
       "      <th>218396</th>\n",
       "      <td>2020-06-30</td>\n",
       "      <td>-49.75</td>\n",
       "      <td>-51.75</td>\n",
       "      <td>1.04</td>\n",
       "    </tr>\n",
       "    <tr>\n",
       "      <th>218397</th>\n",
       "      <td>2020-06-30</td>\n",
       "      <td>-49.75</td>\n",
       "      <td>-51.25</td>\n",
       "      <td>1.04</td>\n",
       "    </tr>\n",
       "    <tr>\n",
       "      <th>218398</th>\n",
       "      <td>2020-06-30</td>\n",
       "      <td>-49.75</td>\n",
       "      <td>-50.75</td>\n",
       "      <td>1.04</td>\n",
       "    </tr>\n",
       "    <tr>\n",
       "      <th>218399</th>\n",
       "      <td>2020-06-30</td>\n",
       "      <td>-49.75</td>\n",
       "      <td>-50.25</td>\n",
       "      <td>1.04</td>\n",
       "    </tr>\n",
       "  </tbody>\n",
       "</table>\n",
       "<p>218400 rows × 4 columns</p>\n",
       "</div>"
      ],
      "text/plain": [
       "              time  latitude  longitude  chlor_a\n",
       "0       2020-01-01    -35.25     -69.75     1.04\n",
       "1       2020-01-01    -35.25     -69.25     1.04\n",
       "2       2020-01-01    -35.25     -68.75     1.04\n",
       "3       2020-01-01    -35.25     -68.25     1.04\n",
       "4       2020-01-01    -35.25     -67.75     1.04\n",
       "...            ...       ...        ...      ...\n",
       "218395  2020-06-30    -49.75     -52.25     1.04\n",
       "218396  2020-06-30    -49.75     -51.75     1.04\n",
       "218397  2020-06-30    -49.75     -51.25     1.04\n",
       "218398  2020-06-30    -49.75     -50.75     1.04\n",
       "218399  2020-06-30    -49.75     -50.25     1.04\n",
       "\n",
       "[218400 rows x 4 columns]"
      ]
     },
     "execution_count": 4,
     "metadata": {},
     "output_type": "execute_result"
    }
   ],
   "source": [
    "chlorophyllDF"
   ]
  },
  {
   "cell_type": "code",
   "execution_count": 7,
   "metadata": {},
   "outputs": [
    {
     "data": {
      "text/plain": [
       "time          object\n",
       "latitude     float64\n",
       "longitude    float64\n",
       "chlor_a      float64\n",
       "dtype: object"
      ]
     },
     "execution_count": 7,
     "metadata": {},
     "output_type": "execute_result"
    }
   ],
   "source": [
    "chlorophyllDF.dtypes"
   ]
  },
  {
   "cell_type": "code",
   "execution_count": 5,
   "metadata": {},
   "outputs": [
    {
     "data": {
      "text/html": [
       "<div>\n",
       "<style scoped>\n",
       "    .dataframe tbody tr th:only-of-type {\n",
       "        vertical-align: middle;\n",
       "    }\n",
       "\n",
       "    .dataframe tbody tr th {\n",
       "        vertical-align: top;\n",
       "    }\n",
       "\n",
       "    .dataframe thead th {\n",
       "        text-align: right;\n",
       "    }\n",
       "</style>\n",
       "<table border=\"1\" class=\"dataframe\">\n",
       "  <thead>\n",
       "    <tr style=\"text-align: right;\">\n",
       "      <th></th>\n",
       "      <th>time</th>\n",
       "      <th>latitude</th>\n",
       "      <th>longitude</th>\n",
       "      <th>temperature</th>\n",
       "      <th>partOfTheDay</th>\n",
       "    </tr>\n",
       "  </thead>\n",
       "  <tbody>\n",
       "    <tr>\n",
       "      <th>0</th>\n",
       "      <td>2020-01-01</td>\n",
       "      <td>-35.25</td>\n",
       "      <td>-69.75</td>\n",
       "      <td>288.169121</td>\n",
       "      <td>day</td>\n",
       "    </tr>\n",
       "    <tr>\n",
       "      <th>1</th>\n",
       "      <td>2020-01-01</td>\n",
       "      <td>-35.25</td>\n",
       "      <td>-69.25</td>\n",
       "      <td>288.169121</td>\n",
       "      <td>day</td>\n",
       "    </tr>\n",
       "    <tr>\n",
       "      <th>2</th>\n",
       "      <td>2020-01-01</td>\n",
       "      <td>-35.25</td>\n",
       "      <td>-68.75</td>\n",
       "      <td>288.169121</td>\n",
       "      <td>day</td>\n",
       "    </tr>\n",
       "    <tr>\n",
       "      <th>3</th>\n",
       "      <td>2020-01-01</td>\n",
       "      <td>-35.25</td>\n",
       "      <td>-68.25</td>\n",
       "      <td>288.169121</td>\n",
       "      <td>day</td>\n",
       "    </tr>\n",
       "    <tr>\n",
       "      <th>4</th>\n",
       "      <td>2020-01-01</td>\n",
       "      <td>-35.25</td>\n",
       "      <td>-67.75</td>\n",
       "      <td>288.169121</td>\n",
       "      <td>day</td>\n",
       "    </tr>\n",
       "    <tr>\n",
       "      <th>...</th>\n",
       "      <td>...</td>\n",
       "      <td>...</td>\n",
       "      <td>...</td>\n",
       "      <td>...</td>\n",
       "      <td>...</td>\n",
       "    </tr>\n",
       "    <tr>\n",
       "      <th>436795</th>\n",
       "      <td>2020-06-30</td>\n",
       "      <td>-49.75</td>\n",
       "      <td>-52.25</td>\n",
       "      <td>288.169121</td>\n",
       "      <td>night</td>\n",
       "    </tr>\n",
       "    <tr>\n",
       "      <th>436796</th>\n",
       "      <td>2020-06-30</td>\n",
       "      <td>-49.75</td>\n",
       "      <td>-51.75</td>\n",
       "      <td>288.169121</td>\n",
       "      <td>night</td>\n",
       "    </tr>\n",
       "    <tr>\n",
       "      <th>436797</th>\n",
       "      <td>2020-06-30</td>\n",
       "      <td>-49.75</td>\n",
       "      <td>-51.25</td>\n",
       "      <td>288.169121</td>\n",
       "      <td>night</td>\n",
       "    </tr>\n",
       "    <tr>\n",
       "      <th>436798</th>\n",
       "      <td>2020-06-30</td>\n",
       "      <td>-49.75</td>\n",
       "      <td>-50.75</td>\n",
       "      <td>288.169121</td>\n",
       "      <td>night</td>\n",
       "    </tr>\n",
       "    <tr>\n",
       "      <th>436799</th>\n",
       "      <td>2020-06-30</td>\n",
       "      <td>-49.75</td>\n",
       "      <td>-50.25</td>\n",
       "      <td>288.169121</td>\n",
       "      <td>night</td>\n",
       "    </tr>\n",
       "  </tbody>\n",
       "</table>\n",
       "<p>436800 rows × 5 columns</p>\n",
       "</div>"
      ],
      "text/plain": [
       "              time  latitude  longitude  temperature partOfTheDay\n",
       "0       2020-01-01    -35.25     -69.75   288.169121          day\n",
       "1       2020-01-01    -35.25     -69.25   288.169121          day\n",
       "2       2020-01-01    -35.25     -68.75   288.169121          day\n",
       "3       2020-01-01    -35.25     -68.25   288.169121          day\n",
       "4       2020-01-01    -35.25     -67.75   288.169121          day\n",
       "...            ...       ...        ...          ...          ...\n",
       "436795  2020-06-30    -49.75     -52.25   288.169121        night\n",
       "436796  2020-06-30    -49.75     -51.75   288.169121        night\n",
       "436797  2020-06-30    -49.75     -51.25   288.169121        night\n",
       "436798  2020-06-30    -49.75     -50.75   288.169121        night\n",
       "436799  2020-06-30    -49.75     -50.25   288.169121        night\n",
       "\n",
       "[436800 rows x 5 columns]"
      ]
     },
     "execution_count": 5,
     "metadata": {},
     "output_type": "execute_result"
    }
   ],
   "source": [
    "temperatureDF"
   ]
  },
  {
   "cell_type": "code",
   "execution_count": 6,
   "metadata": {},
   "outputs": [
    {
     "data": {
      "text/plain": [
       "time             object\n",
       "latitude        float64\n",
       "longitude       float64\n",
       "temperature     float64\n",
       "partOfTheDay     object\n",
       "dtype: object"
      ]
     },
     "execution_count": 6,
     "metadata": {},
     "output_type": "execute_result"
    }
   ],
   "source": [
    "temperatureDF.dtypes"
   ]
  },
  {
   "cell_type": "markdown",
   "metadata": {},
   "source": [
    "## 2A. Generate square geometries.\n",
    "Temperature and chlorophyll data are already preprocessed (homogenized) to use the common resolution of 0.5º, meaning that each coordinate in these data sets is actually covering a square of 0.5º of size."
   ]
  },
  {
   "cell_type": "code",
   "execution_count": 57,
   "metadata": {},
   "outputs": [
    {
     "name": "stdout",
     "output_type": "stream",
     "text": [
      "latitude min and max: [-49.75, -35.25]\n"
     ]
    }
   ],
   "source": [
    "maxi_lat = max(chlorophyllDF['latitude'].max(), temperatureDF['latitude'].max())\n",
    "mini_lat = min(chlorophyllDF['latitude'].min(), temperatureDF['latitude'].min())\n",
    "print('latitude min and max: [{}, {}]'.format(mini_lat, maxi_lat))   "
   ]
  },
  {
   "cell_type": "code",
   "execution_count": 58,
   "metadata": {},
   "outputs": [
    {
     "name": "stdout",
     "output_type": "stream",
     "text": [
      "longitude min and max: [-69.75, -50.25]\n"
     ]
    }
   ],
   "source": [
    "maxi_lon = max(chlorophyllDF['longitude'].max(), temperatureDF['longitude'].max())\n",
    "mini_lon = min(chlorophyllDF['longitude'].min(), temperatureDF['longitude'].min())\n",
    "print('longitude min and max: [{}, {}]'.format(mini_lon, maxi_lon))   "
   ]
  },
  {
   "cell_type": "code",
   "execution_count": 63,
   "metadata": {},
   "outputs": [
    {
     "data": {
      "text/plain": [
       "array([-50. , -49.5, -49. , -48.5, -48. , -47.5, -47. , -46.5, -46. ,\n",
       "       -45.5, -45. , -44.5, -44. , -43.5, -43. , -42.5, -42. , -41.5,\n",
       "       -41. , -40.5, -40. , -39.5, -39. , -38.5, -38. , -37.5, -37. ,\n",
       "       -36.5, -36. , -35.5])"
      ]
     },
     "execution_count": 63,
     "metadata": {},
     "output_type": "execute_result"
    }
   ],
   "source": [
    "latitude_coord = np.arange(-50, -35, 0.5)\n",
    "latitude_coord"
   ]
  },
  {
   "cell_type": "code",
   "execution_count": 69,
   "metadata": {},
   "outputs": [
    {
     "data": {
      "text/plain": [
       "array([-70. , -69.5, -69. , -68.5, -68. , -67.5, -67. , -66.5, -66. ,\n",
       "       -65.5, -65. , -64.5, -64. , -63.5, -63. , -62.5, -62. , -61.5,\n",
       "       -61. , -60.5, -60. , -59.5, -59. , -58.5, -58. , -57.5, -57. ,\n",
       "       -56.5, -56. , -55.5, -55. , -54.5, -54. , -53.5, -53. , -52.5,\n",
       "       -52. , -51.5, -51. , -50.5])"
      ]
     },
     "execution_count": 69,
     "metadata": {},
     "output_type": "execute_result"
    }
   ],
   "source": [
    "longitude_coord = np.arange(-70, -50, 0.5)\n",
    "longitude_coord"
   ]
  },
  {
   "cell_type": "code",
   "execution_count": 24,
   "metadata": {},
   "outputs": [],
   "source": [
    "lat = np.union1d(chlorophyllDF['latitude'].unique(), temperatureDF['latitude'].unique())\n",
    "lon = np.union1d(chlorophyllDF['longitude'].unique(), temperatureDF['longitude'].unique())"
   ]
  },
  {
   "cell_type": "code",
   "execution_count": 36,
   "metadata": {},
   "outputs": [
    {
     "data": {
      "text/plain": [
       "array([-49.75, -49.25, -48.75, -48.25, -47.75, -47.25, -46.75, -46.25,\n",
       "       -45.75, -45.25, -44.75, -44.25, -43.75, -43.25, -42.75, -42.25,\n",
       "       -41.75, -41.25, -40.75, -40.25, -39.75, -39.25, -38.75, -38.25,\n",
       "       -37.75, -37.25, -36.75, -36.25, -35.75, -35.25])"
      ]
     },
     "execution_count": 36,
     "metadata": {},
     "output_type": "execute_result"
    }
   ],
   "source": [
    "lat"
   ]
  },
  {
   "cell_type": "code",
   "execution_count": 25,
   "metadata": {},
   "outputs": [
    {
     "data": {
      "text/plain": [
       "30"
      ]
     },
     "execution_count": 25,
     "metadata": {},
     "output_type": "execute_result"
    }
   ],
   "source": [
    "len(lat)"
   ]
  },
  {
   "cell_type": "code",
   "execution_count": 33,
   "metadata": {},
   "outputs": [
    {
     "data": {
      "text/plain": [
       "array([-69.75, -69.25, -68.75, -68.25, -67.75, -67.25, -66.75, -66.25,\n",
       "       -65.75, -65.25, -64.75, -64.25, -63.75, -63.25, -62.75, -62.25,\n",
       "       -61.75, -61.25, -60.75, -60.25, -59.75, -59.25, -58.75, -58.25,\n",
       "       -57.75, -57.25, -56.75, -56.25, -55.75, -55.25, -54.75, -54.25,\n",
       "       -53.75, -53.25, -52.75, -52.25, -51.75, -51.25, -50.75, -50.25])"
      ]
     },
     "execution_count": 33,
     "metadata": {},
     "output_type": "execute_result"
    }
   ],
   "source": [
    "lon"
   ]
  },
  {
   "cell_type": "code",
   "execution_count": 29,
   "metadata": {},
   "outputs": [
    {
     "data": {
      "text/plain": [
       "40"
      ]
     },
     "execution_count": 29,
     "metadata": {},
     "output_type": "execute_result"
    }
   ],
   "source": [
    "len(lon)"
   ]
  },
  {
   "cell_type": "code",
   "execution_count": 35,
   "metadata": {},
   "outputs": [
    {
     "name": "stdout",
     "output_type": "stream",
     "text": [
      "-49.75, -69.75\n"
     ]
    }
   ],
   "source": [
    "print(\"{}, {}\".format(lat[0], lon[0]))"
   ]
  },
  {
   "cell_type": "code",
   "execution_count": 46,
   "metadata": {},
   "outputs": [
    {
     "data": {
      "text/plain": [
       "(-49.75, -69.75, -49.25, -69.25)"
      ]
     },
     "execution_count": 46,
     "metadata": {},
     "output_type": "execute_result"
    }
   ],
   "source": [
    "mySquare = LineString([ (lat[0], lon[0]), (lat[0], lon[1]), (lat[1], lon[1]), (lat[1], lon[0]), (lat[0], lon[0])])\n",
    "mySquare.bounds\n",
    "#print(\"{}, {}\".format(mySquare.bounds[0], mySquare.bounds[1]))\n"
   ]
  }
 ],
 "metadata": {
  "interpreter": {
   "hash": "29ba93c044cfb6c2e801a96883e0a60807e42630ff0d0d77aad333ab56afa66f"
  },
  "kernelspec": {
   "display_name": "Python 3.9.12 ('geo_env')",
   "language": "python",
   "name": "python3"
  },
  "language_info": {
   "codemirror_mode": {
    "name": "ipython",
    "version": 3
   },
   "file_extension": ".py",
   "mimetype": "text/x-python",
   "name": "python",
   "nbconvert_exporter": "python",
   "pygments_lexer": "ipython3",
   "version": "3.9.12"
  },
  "orig_nbformat": 4
 },
 "nbformat": 4,
 "nbformat_minor": 2
}
