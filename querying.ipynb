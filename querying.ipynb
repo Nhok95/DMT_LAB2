{
 "cells": [
  {
   "cell_type": "markdown",
   "metadata": {},
   "source": [
    "# 4. Querying\n",
    "\n",
    "#### Imports and constants"
   ]
  },
  {
   "cell_type": "code",
   "execution_count": 1,
   "metadata": {},
   "outputs": [],
   "source": [
    "import pandas as pd\n",
    "import geopandas as gpd\n",
    "from pathlib import Path\n",
    "\n",
    "\n",
    "ROOT = Path.cwd()"
   ]
  },
  {
   "cell_type": "code",
   "execution_count": null,
   "metadata": {},
   "outputs": [],
   "source": [
    "DataDir = ROOT / \"Data\""
   ]
  },
  {
   "cell_type": "code",
   "execution_count": null,
   "metadata": {},
   "outputs": [],
   "source": [
    "aisDF = pd.read_csv(DataDir / \"ais.csv\")\n",
    "chlorophyllaDF = pd.read_csv(DataDir / \"chlorophylla_012020-062020_res05.csv\")\n",
    "fishingDF = pd.read_csv(DataDir / \"fishing.csv\")\n",
    "temperatureDF = pd.read_csv(DataDir / \"temperature_012020-062020_res05.csv\")"
   ]
  }
 ],
 "metadata": {
  "interpreter": {
   "hash": "29ba93c044cfb6c2e801a96883e0a60807e42630ff0d0d77aad333ab56afa66f"
  },
  "kernelspec": {
   "display_name": "Python 3.9.12 ('geo_env')",
   "language": "python",
   "name": "python3"
  },
  "language_info": {
   "codemirror_mode": {
    "name": "ipython",
    "version": 3
   },
   "file_extension": ".py",
   "mimetype": "text/x-python",
   "name": "python",
   "nbconvert_exporter": "python",
   "pygments_lexer": "ipython3",
   "version": "3.9.12"
  },
  "orig_nbformat": 4
 },
 "nbformat": 4,
 "nbformat_minor": 2
}
